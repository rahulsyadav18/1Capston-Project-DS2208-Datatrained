{
 "cells": [
  {
   "cell_type": "code",
   "execution_count": 1,
   "id": "899b62ae",
   "metadata": {},
   "outputs": [],
   "source": [
    "from bs4 import BeautifulSoup\n",
    "import requests \n",
    "import pandas as pd\n",
    "import selenium\n",
    "from selenium import webdriver\n",
    "from selenium.webdriver.common.by import By\n",
    "import warnings\n",
    "warnings.filterwarnings('ignore')\n",
    "import time\n",
    "from selenium.common.exceptions import NoSuchElementException"
   ]
  },
  {
   "cell_type": "code",
   "execution_count": 2,
   "id": "74007afc",
   "metadata": {},
   "outputs": [],
   "source": [
    "driver= webdriver.Chrome(r\"chromedriver.exe\")"
   ]
  },
  {
   "cell_type": "code",
   "execution_count": 3,
   "id": "a4c3369c",
   "metadata": {},
   "outputs": [],
   "source": [
    "driver.get('https://www.imdb.com/search/title/?genres=action&sort=user_rating,desc&title_type=feature&num_votes=25000,&pf_rd_m=A2FGELUUNOQJNL&pf_rd_p=f11158cc-b50b-4c4d-b0a2-40b32863395b&pf_rd_r=XZ8X52H1R40B7KG5SNZ9&pf_rd_s=right-6&pf_rd_t=15506&pf_rd_i=top&ref_=chttp_gnr_1')"
   ]
  },
  {
   "cell_type": "code",
   "execution_count": 4,
   "id": "c425ff16",
   "metadata": {},
   "outputs": [],
   "source": [
    "Movie_url=[]\n",
    "start=0\n",
    "end=2\n",
    "for page in range(start,end):\n",
    "    url=driver.find_elements(By.XPATH,'//h3[@class=\"lister-item-header\"]/a')\n",
    "    for i in url:\n",
    "        Movie_url.append(i.get_attribute('href'))\n",
    "        next_button=driver.find_element(By.XPATH,'//a[@class=\"lister-page-next next-page\"]')\n",
    "    next_button.click()\n",
    "    time.sleep(2)"
   ]
  },
  {
   "cell_type": "code",
   "execution_count": 5,
   "id": "a4f4f474",
   "metadata": {},
   "outputs": [
    {
     "data": {
      "text/plain": [
       "100"
      ]
     },
     "execution_count": 5,
     "metadata": {},
     "output_type": "execute_result"
    }
   ],
   "source": [
    "len(Movie_url)"
   ]
  },
  {
   "cell_type": "markdown",
   "id": "88d50875",
   "metadata": {},
   "source": [
    "# SRNO"
   ]
  },
  {
   "cell_type": "code",
   "execution_count": 6,
   "id": "2ce0eddd",
   "metadata": {},
   "outputs": [],
   "source": [
    "srno=[]"
   ]
  },
  {
   "cell_type": "code",
   "execution_count": 7,
   "id": "9a91d36e",
   "metadata": {},
   "outputs": [],
   "source": [
    "start=0\n",
    "end=2\n",
    "for i in range(start,end):\n",
    "    try:\n",
    "        sr=driver.find_elements(By.XPATH,'//span[@class=\"lister-item-index unbold text-primary\"]')\n",
    "        for i in sr:\n",
    "            srno.append(i.text)\n",
    "    except NoSuchElementException:\n",
    "        srno.append('-')"
   ]
  },
  {
   "cell_type": "code",
   "execution_count": 8,
   "id": "fed7242d",
   "metadata": {},
   "outputs": [
    {
     "data": {
      "text/plain": [
       "100"
      ]
     },
     "execution_count": 8,
     "metadata": {},
     "output_type": "execute_result"
    }
   ],
   "source": [
    "len(srno)"
   ]
  },
  {
   "cell_type": "markdown",
   "id": "91f39f96",
   "metadata": {},
   "source": [
    "# Movie_name"
   ]
  },
  {
   "cell_type": "code",
   "execution_count": 9,
   "id": "5c7a723d",
   "metadata": {},
   "outputs": [],
   "source": [
    "movie_name=[]"
   ]
  },
  {
   "cell_type": "code",
   "execution_count": 10,
   "id": "d3bf82ef",
   "metadata": {},
   "outputs": [],
   "source": [
    "start=0\n",
    "end=2\n",
    "for i in range(start,end):\n",
    "    movie=driver.find_elements(By.XPATH,'//h3[@class=\"lister-item-header\"]/a')\n",
    "    for i in movie:\n",
    "        movie_name.append(i.text)\n",
    "        next_button=driver.find_element(By.XPATH,'//*[@id=\"main\"]/div/div[4]/a')\n",
    "    next_button.click()\n",
    "    time.sleep(2)"
   ]
  },
  {
   "cell_type": "code",
   "execution_count": 11,
   "id": "6d8cb082",
   "metadata": {},
   "outputs": [
    {
     "data": {
      "text/plain": [
       "100"
      ]
     },
     "execution_count": 11,
     "metadata": {},
     "output_type": "execute_result"
    }
   ],
   "source": [
    "len(movie_name)"
   ]
  },
  {
   "cell_type": "markdown",
   "id": "14b4c138",
   "metadata": {},
   "source": [
    "# Director Name"
   ]
  },
  {
   "cell_type": "code",
   "execution_count": 24,
   "id": "1abb3402",
   "metadata": {},
   "outputs": [],
   "source": [
    "Ddirector=[]"
   ]
  },
  {
   "cell_type": "code",
   "execution_count": 25,
   "id": "cbe13373",
   "metadata": {},
   "outputs": [],
   "source": [
    "start=0\n",
    "end=2\n",
    "for i in range(start,end):\n",
    "    movie=driver.find_elements(By.XPATH,'//*[@id=\"main\"]/div/div[3]/div/div/div[3]/p[3]')\n",
    "    for i in movie:\n",
    "        try:\n",
    "            Ddirector.append(i.text)\n",
    "            \n",
    "        except NoSuchElementException:\n",
    "            Ddirector.append('_')\n",
    "        \n",
    "    next_button=driver.find_element(By.XPATH,'//*[@id=\"main\"]/div/div[4]/a')\n",
    "    next_button.click()\n",
    "    #time.sleep(2)"
   ]
  },
  {
   "cell_type": "code",
   "execution_count": 26,
   "id": "05ba1cfb",
   "metadata": {},
   "outputs": [
    {
     "data": {
      "text/plain": [
       "['Director: Christopher Nolan | Stars: Christian Bale, Heath Ledger, Aaron Eckhart, Michael Caine',\n",
       " 'Director: Peter Jackson | Stars: Elijah Wood, Viggo Mortensen, Ian McKellen, Orlando Bloom',\n",
       " 'Directors: Joaquim Dos Santos, Kemp Powers, Justin K. Thompson | Stars: Shameik Moore, Hailee Steinfeld, Brian Tyree Henry, Luna Lauren Velez',\n",
       " 'Director: Christopher Nolan | Stars: Leonardo DiCaprio, Joseph Gordon-Levitt, Elliot Page, Ken Watanabe',\n",
       " 'Director: Peter Jackson | Stars: Elijah Wood, Ian McKellen, Orlando Bloom, Sean Bean',\n",
       " 'Director: Peter Jackson | Stars: Elijah Wood, Ian McKellen, Viggo Mortensen, Orlando Bloom',\n",
       " 'Directors: Lana Wachowski, Lilly Wachowski | Stars: Keanu Reeves, Laurence Fishburne, Carrie-Anne Moss, Hugo Weaving',\n",
       " 'Director: Irvin Kershner | Stars: Mark Hamill, Harrison Ford, Carrie Fisher, Billy Dee Williams',\n",
       " 'Director: Sudha Kongara | Stars: Suriya, Paresh Rawal, Aparna Balamurali, Vivek Prasanna',\n",
       " 'Director: James Cameron | Stars: Arnold Schwarzenegger, Linda Hamilton, Edward Furlong, Robert Patrick',\n",
       " 'Director: George Lucas | Stars: Mark Hamill, Harrison Ford, Carrie Fisher, Alec Guinness',\n",
       " 'Director: Akira Kurosawa | Stars: Toshirô Mifune, Takashi Shimura, Keiko Tsushima, Yukiko Shimazaki',\n",
       " 'Director: Masaki Kobayashi | Stars: Tatsuya Nakadai, Akira Ishihama, Shima Iwashita, Tetsurô Tanba',\n",
       " 'Director: Hanu Raghavapudi | Stars: Dulquer Salmaan, Mrunal Thakur, Rashmika Mandanna, Sumanth',\n",
       " 'Director: Ridley Scott | Stars: Russell Crowe, Joaquin Phoenix, Connie Nielsen, Oliver Reed',\n",
       " 'Director: Luc Besson | Stars: Jean Reno, Gary Oldman, Natalie Portman, Danny Aiello',\n",
       " 'Director: Steven Spielberg | Stars: Harrison Ford, Karen Allen, Paul Freeman, John Rhys-Davies',\n",
       " 'Directors: Bob Persichetti, Peter Ramsey, Rodney Rothman | Stars: Shameik Moore, Jake Johnson, Hailee Steinfeld, Mahershala Ali',\n",
       " 'Director: Christopher Nolan | Stars: Christian Bale, Tom Hardy, Anne Hathaway, Gary Oldman',\n",
       " 'Directors: Anthony Russo, Joe Russo | Stars: Robert Downey Jr., Chris Evans, Mark Ruffalo, Chris Hemsworth',\n",
       " 'Director: James Cameron | Stars: Sigourney Weaver, Michael Biehn, Carrie Henn, Paul Reiser',\n",
       " 'Director: Park Chan-wook | Stars: Choi Min-sik, Yoo Ji-tae, Kang Hye-jeong, Kim Byeong-Ok',\n",
       " 'Directors: Anthony Russo, Joe Russo | Stars: Robert Downey Jr., Chris Hemsworth, Mark Ruffalo, Chris Evans',\n",
       " 'Director: Lokesh Kanagaraj | Stars: Karthi, Narain, Arjun Das, George Maryan',\n",
       " 'Director: Vetrimaaran | Stars: Dhanush, Manju Warrier, Prakash Raj, Pasupathy',\n",
       " 'Director: Joseph Kosinski | Stars: Tom Cruise, Jennifer Connelly, Miles Teller, Val Kilmer',\n",
       " 'Director: Michael Mann | Stars: Al Pacino, Robert De Niro, Val Kilmer, Jon Voight',\n",
       " 'Director: Richard Marquand | Stars: Mark Hamill, Harrison Ford, Carrie Fisher, Billy Dee Williams',\n",
       " 'Director: Hayao Miyazaki | Stars: Yôji Matsuda, Yuriko Ishida, Yûko Tanaka, Billy Crudup',\n",
       " 'Director: Alfred Hitchcock | Stars: Cary Grant, Eva Marie Saint, James Mason, Jessie Royce Landis',\n",
       " 'Director: Nitesh Tiwari | Stars: Aamir Khan, Sakshi Tanwar, Fatima Sana Shaikh, Sanya Malhotra',\n",
       " 'Director: Rishab Shetty | Stars: Rishab Shetty, Kishore Kumar G., Achyuth Kumar, Sapthami Gowda',\n",
       " 'Director: Prashanth Neel | Stars: Yash, Sanjay Dutt, Raveena Tandon, Srinidhi Shetty',\n",
       " 'Director: Lokesh Kanagaraj | Stars: Kamal Haasan, Vijay Sethupathi, Fahadh Faasil, Narain',\n",
       " 'Director: Vishnuvardhan | Stars: Sidharth Malhotra, Kiara Advani, Shiv Panditt, Pranay Pachauri',\n",
       " 'Director: Ram Kumar | Stars: Vishnu Vishal, Amala Paul, Radha Ravi, Sangili Murugan',\n",
       " 'Director: Steven Spielberg | Stars: Harrison Ford, Sean Connery, Alison Doody, Denholm Elliott',\n",
       " 'Director: Steven Spielberg | Stars: Sam Neill, Laura Dern, Jeff Goldblum, Richard Attenborough',\n",
       " 'Director: Christopher Nolan | Stars: Christian Bale, Michael Caine, Ken Watanabe, Liam Neeson',\n",
       " 'Director: Jon Watts | Stars: Tom Holland, Zendaya, Benedict Cumberbatch, Jacob Batalon',\n",
       " 'Director: Sam Mendes | Stars: Dean-Charles Chapman, George MacKay, Daniel Mays, Colin Firth',\n",
       " 'Director: John McTiernan | Stars: Bruce Willis, Alan Rickman, Bonnie Bedelia, Reginald VelJohnson',\n",
       " 'Director: Quentin Tarantino | Stars: Uma Thurman, David Carradine, Daryl Hannah, Michael Madsen',\n",
       " 'Director: James McTeigue | Stars: Hugo Weaving, Natalie Portman, Rupert Graves, Stephen Rea',\n",
       " 'Director: Akira Kurosawa | Stars: Tatsuya Nakadai, Akira Terao, Jinpachi Nezu, Daisuke Ryû',\n",
       " 'Director: Haruo Sotozaki | Stars: Natsuki Hanae, Akari Kitô, Yoshitsugu Matsuoka, Hiro Shimono',\n",
       " 'Director: S.S. Rajamouli | Stars: Prabhas, Rana Daggubati, Anushka Shetty, Tamannaah Bhatia',\n",
       " 'Director: Anurag Kashyap | Stars: Manoj Bajpayee, Nawazuddin Siddiqui, Tigmanshu Dhulia, Richa Chadha',\n",
       " 'Director: Akira Kurosawa | Stars: Toshirô Mifune, Eijirô Tôno, Tatsuya Nakadai, Yôko Tsukasa',\n",
       " 'Director: Aditya Dhar | Stars: Vicky Kaushal, Paresh Rawal, Mohit Raina, Yami Gautam',\n",
       " 'Director: Sukumar | Stars: Ram Charan, Samantha Ruth Prabhu, Aadhi, Jagapathi Babu',\n",
       " 'Director: Prashanth Neel | Stars: Yash, Srinidhi Shetty, Ramachandra Raju, Archana Jois',\n",
       " 'Director: Buster Keaton | Stars: Buster Keaton, Kathryn McGuire, Joe Keaton, Erwin Connelly',\n",
       " 'Director: Alper Caglar | Stars: Caglar Ertugrul, Ufuk Bayraktar, Ahu Türkpençe, Murat Serezli',\n",
       " 'Directors: Gayatri, Pushkar, Gowtham Selvaraj | Stars: Madhavan, Vijay Sethupathi, Shraddha Srinath, Kathir',\n",
       " 'Director: Tigmanshu Dhulia | Stars: Irrfan Khan, Mahie Gill, Rajesh Abhay, Hemendra Dandotiya',\n",
       " 'Director: James Gunn | Stars: Chris Pratt, Chukwudi Iwuji, Bradley Cooper, Pom Klementieff',\n",
       " 'Director: Gore Verbinski | Stars: Johnny Depp, Geoffrey Rush, Orlando Bloom, Keira Knightley',\n",
       " 'Director: George Miller | Stars: Tom Hardy, Charlize Theron, Nicholas Hoult, Zoë Kravitz',\n",
       " 'Director: Ridley Scott | Stars: Harrison Ford, Rutger Hauer, Sean Young, Edward James Olmos',\n",
       " 'Director: James Cameron | Stars: Arnold Schwarzenegger, Linda Hamilton, Michael Biehn, Paul Winfield',\n",
       " 'Director: James Mangold | Stars: Hugh Jackman, Patrick Stewart, Dafne Keen, Boyd Holbrook',\n",
       " 'Director: James Mangold | Stars: Matt Damon, Christian Bale, Jon Bernthal, Caitríona Balfe',\n",
       " \"Director: Gavin O'Connor | Stars: Tom Hardy, Nick Nolte, Joel Edgerton, Jennifer Morrison\",\n",
       " 'Director: Ron Howard | Stars: Daniel Brühl, Chris Hemsworth, Olivia Wilde, Alexandra Maria Lara',\n",
       " 'Director: Guy Ritchie | Stars: Jason Flemyng, Dexter Fletcher, Nick Moran, Jason Statham',\n",
       " 'Directors: Dean DeBlois, Chris Sanders | Stars: Jay Baruchel, Gerard Butler, Christopher Mintz-Plasse, Craig Ferguson',\n",
       " 'Director: Brad Bird | Stars: Eli Marienthal, Harry Connick Jr., Jennifer Aniston, Vin Diesel',\n",
       " 'Directors: Hideaki Anno, Kazuya Tsurumaki | Stars: Megumi Ogata, Megumi Hayashibara, Yûko Miyamura, Kotono Mitsuishi',\n",
       " \"Director: Raoul Walsh | Stars: James Cagney, Virginia Mayo, Edmond O'Brien, Margaret Wycherly\",\n",
       " 'Directors: Kabir Khan, Mehmet Tutkun | Stars: Salman Khan, Harshaali Malhotra, Nawazuddin Siddiqui, Kareena Kapoor',\n",
       " 'Director: Akira Kurosawa | Stars: Toshirô Mifune, Misa Uehara, Minoru Chiaki, Kamatari Fujiwara',\n",
       " 'Directors: Clyde Bruckman, Buster Keaton | Stars: Buster Keaton, Marion Mack, Glen Cavender, Jim Farley',\n",
       " 'Director: Neeraj Pandey | Stars: Anupam Kher, Naseeruddin Shah, Veerendra Saxena, Mahesh Kanual',\n",
       " 'Director: Ramesh Sippy | Stars: Sanjeev Kumar, Dharmendra, Amitabh Bachchan, Amjad Khan',\n",
       " 'Director: Sashi Kiran Tikka | Stars: Adivi Sesh, Prakash Raj, Revathi, Saiee Manjrekar',\n",
       " 'Director: John Mathew Matthan | Stars: Naseeruddin Shah, Aamir Khan, Sonali Bendre, Mukesh Rishi',\n",
       " 'Director: Priyadarshan | Stars: Akshay Kumar, Suniel Shetty, Paresh Rawal, Tabu',\n",
       " 'Director: A.R. Murugadoss | Stars: Joseph Vijay, Kajal Aggarwal, Vidyut Jammwal, Sathyan',\n",
       " 'Director: A.R. Murugadoss | Stars: Joseph Vijay, Samantha Ruth Prabhu, Neil Nitin Mukesh, Tota Roy Chowdhury',\n",
       " 'Director: Christopher McQuarrie | Stars: Tom Cruise, Hayley Atwell, Ving Rhames, Simon Pegg',\n",
       " 'Director: Alejandro Monteverde | Stars: Jim Caviezel, Mira Sorvino, Bill Camp, Cristal Aparicio',\n",
       " 'Director: Denis Villeneuve | Stars: Timothée Chalamet, Rebecca Ferguson, Zendaya, Oscar Isaac',\n",
       " 'Director: Denis Villeneuve | Stars: Harrison Ford, Ryan Gosling, Ana de Armas, Dave Bautista',\n",
       " 'Director: James Gunn | Stars: Chris Pratt, Vin Diesel, Bradley Cooper, Zoe Saldana',\n",
       " 'Director: Tim Miller | Stars: Ryan Reynolds, Morena Baccarin, T.J. Miller, Ed Skrein',\n",
       " 'Director: Alejandro G. Iñárritu | Stars: Leonardo DiCaprio, Tom Hardy, Will Poulter, Domhnall Gleeson',\n",
       " 'Director: Joss Whedon | Stars: Robert Downey Jr., Chris Evans, Scarlett Johansson, Jeremy Renner',\n",
       " 'Director: Martin Campbell | Stars: Daniel Craig, Eva Green, Judi Dench, Jeffrey Wright',\n",
       " 'Director: Brad Bird | Stars: Craig T. Nelson, Samuel L. Jackson, Holly Hunter, Jason Lee',\n",
       " 'Director: Katsuhiro Ôtomo | Stars: Mitsuo Iwata, Nozomu Sasaki, Mami Koyama, Tesshô Genda',\n",
       " 'Director: Quentin Tarantino | Stars: Uma Thurman, David Carradine, Michael Madsen, Daryl Hannah',\n",
       " 'Director: Wilson Yip | Stars: Donnie Yen, Simon Yam, Siu-Wong Fan, Ka-Tung Lam',\n",
       " 'Director: Paul Greengrass | Stars: Matt Damon, Edgar Ramírez, Joan Allen, Julia Stiles',\n",
       " 'Director: S.S. Rajamouli | Stars: Prabhas, Rana Daggubati, Anushka Shetty, Tamannaah Bhatia',\n",
       " 'Directors: Tomm Moore, Ross Stewart | Stars: Honor Kneafsey, Eva Whittaker, Sean Bean, Simon McBurney',\n",
       " 'Directors: Andrew Lau, Alan Mak | Stars: Andy Lau, Tony Leung Chiu-wai, Anthony Chau-Sang Wong, Eric Tsang',\n",
       " 'Director: José Padilha | Stars: Wagner Moura, André Ramiro, Caio Junqueira, Milhem Cortaz',\n",
       " 'Director: Akira Kurosawa | Stars: Toshirô Mifune, Tatsuya Nakadai, Keiju Kobayashi, Yûnosuke Itô',\n",
       " 'Director: José Padilha | Stars: Wagner Moura, Irandhir Santos, André Ramiro, Milhem Cortaz']"
      ]
     },
     "execution_count": 26,
     "metadata": {},
     "output_type": "execute_result"
    }
   ],
   "source": [
    "Ddirector"
   ]
  },
  {
   "cell_type": "code",
   "execution_count": 28,
   "id": "fee8962e",
   "metadata": {},
   "outputs": [
    {
     "data": {
      "text/plain": [
       "['Christopher Nolan',\n",
       " 'Peter Jackson',\n",
       " 'Joaquim Dos Santos, Kemp Powers, Justin K. Thompson',\n",
       " 'Christopher Nolan',\n",
       " 'Peter Jackson',\n",
       " 'Peter Jackson',\n",
       " 'Lana Wachowski, Lilly Wachowski',\n",
       " 'Irvin Kershner',\n",
       " 'Sudha Kongara',\n",
       " 'James Cameron',\n",
       " 'George Lucas',\n",
       " 'Akira Kurosawa',\n",
       " 'Masaki Kobayashi',\n",
       " 'Hanu Raghavapudi',\n",
       " 'Ridley Scott',\n",
       " 'Luc Besson',\n",
       " 'Steven Spielberg',\n",
       " 'Bob Persichetti, Peter Ramsey, Rodney Rothman',\n",
       " 'Christopher Nolan',\n",
       " 'Anthony Russo, Joe Russo',\n",
       " 'James Cameron',\n",
       " 'Park Chan-wook',\n",
       " 'Anthony Russo, Joe Russo',\n",
       " 'Lokesh Kanagaraj',\n",
       " 'Vetrimaaran',\n",
       " 'Joseph Kosinski',\n",
       " 'Michael Mann',\n",
       " 'Richard Marquand',\n",
       " 'Hayao Miyazaki',\n",
       " 'Alfred Hitchcock',\n",
       " 'Nitesh Tiwari',\n",
       " 'Rishab Shetty',\n",
       " 'Prashanth Neel',\n",
       " 'Lokesh Kanagaraj',\n",
       " 'Vishnuvardhan',\n",
       " 'Ram Kumar',\n",
       " 'Steven Spielberg',\n",
       " 'Steven Spielberg',\n",
       " 'Christopher Nolan',\n",
       " 'Jon Watts',\n",
       " 'Sam Mendes',\n",
       " 'John McTiernan',\n",
       " 'Quentin Tarantino',\n",
       " 'James McTeigue',\n",
       " 'Akira Kurosawa',\n",
       " 'Haruo Sotozaki',\n",
       " 'S.S. Rajamouli',\n",
       " 'Anurag Kashyap',\n",
       " 'Akira Kurosawa',\n",
       " 'Aditya Dhar',\n",
       " 'Sukumar',\n",
       " 'Prashanth Neel',\n",
       " 'Buster Keaton',\n",
       " 'Alper Caglar',\n",
       " 'Gayatri, Pushkar, Gowtham Selvaraj',\n",
       " 'Tigmanshu Dhulia',\n",
       " 'James Gunn',\n",
       " 'Gore Verbinski',\n",
       " 'George Miller',\n",
       " 'Ridley Scott',\n",
       " 'James Cameron',\n",
       " 'James Mangold',\n",
       " 'James Mangold',\n",
       " \"Gavin O'Connor\",\n",
       " 'Ron Howard',\n",
       " 'Guy Ritchie',\n",
       " 'Dean DeBlois, Chris Sanders',\n",
       " 'Brad Bird',\n",
       " 'Hideaki Anno, Kazuya Tsurumaki',\n",
       " 'Raoul Walsh',\n",
       " 'Kabir Khan, Mehmet Tutkun',\n",
       " 'Akira Kurosawa',\n",
       " 'Clyde Bruckman, Buster Keaton',\n",
       " 'Neeraj Pandey',\n",
       " 'Ramesh Sippy',\n",
       " 'Sashi Kiran Tikka',\n",
       " 'John Mathew Matthan',\n",
       " 'Priyadarshan',\n",
       " 'A.R. Murugadoss',\n",
       " 'A.R. Murugadoss',\n",
       " 'Christopher McQuarrie',\n",
       " 'Alejandro Monteverde',\n",
       " 'Denis Villeneuve',\n",
       " 'Denis Villeneuve',\n",
       " 'James Gunn',\n",
       " 'Tim Miller',\n",
       " 'Alejandro G. Iñárritu',\n",
       " 'Joss Whedon',\n",
       " 'Martin Campbell',\n",
       " 'Brad Bird',\n",
       " 'Katsuhiro Ôtomo',\n",
       " 'Quentin Tarantino',\n",
       " 'Wilson Yip',\n",
       " 'Paul Greengrass',\n",
       " 'S.S. Rajamouli',\n",
       " 'Tomm Moore, Ross Stewart',\n",
       " 'Andrew Lau, Alan Mak',\n",
       " 'José Padilha',\n",
       " 'Akira Kurosawa',\n",
       " 'José Padilha']"
      ]
     },
     "execution_count": 28,
     "metadata": {},
     "output_type": "execute_result"
    }
   ],
   "source": [
    "director_list=[]\n",
    "for i in Ddirector:\n",
    "    Director=i.split(\": \")[1].split(\" |\")[0]\n",
    "    director_list.append(Director)\n",
    "director_list"
   ]
  },
  {
   "cell_type": "code",
   "execution_count": 29,
   "id": "e8e99007",
   "metadata": {},
   "outputs": [],
   "source": [
    "director_1=[]\n",
    "director_2=[]\n",
    "director_3=[]"
   ]
  },
  {
   "cell_type": "code",
   "execution_count": 32,
   "id": "fabedd82",
   "metadata": {},
   "outputs": [],
   "source": [
    "for i in director_list:\n",
    "    name=i.split(\", \")\n",
    "    director_1.append((name)[0])\n",
    "    if len(name)>1 :\n",
    "        director_2.append((name)[1])\n",
    "    else:\n",
    "        director_2.append(None)"
   ]
  },
  {
   "cell_type": "code",
   "execution_count": 33,
   "id": "c0389dee",
   "metadata": {},
   "outputs": [
    {
     "data": {
      "text/plain": [
       "['Christopher Nolan',\n",
       " 'Peter Jackson',\n",
       " 'Joaquim Dos Santos',\n",
       " 'Christopher Nolan',\n",
       " 'Peter Jackson',\n",
       " 'Peter Jackson',\n",
       " 'Lana Wachowski',\n",
       " 'Irvin Kershner',\n",
       " 'Sudha Kongara',\n",
       " 'James Cameron',\n",
       " 'George Lucas',\n",
       " 'Akira Kurosawa',\n",
       " 'Masaki Kobayashi',\n",
       " 'Hanu Raghavapudi',\n",
       " 'Ridley Scott',\n",
       " 'Luc Besson',\n",
       " 'Steven Spielberg',\n",
       " 'Bob Persichetti',\n",
       " 'Christopher Nolan',\n",
       " 'Anthony Russo',\n",
       " 'James Cameron',\n",
       " 'Park Chan-wook',\n",
       " 'Anthony Russo',\n",
       " 'Lokesh Kanagaraj',\n",
       " 'Vetrimaaran',\n",
       " 'Joseph Kosinski',\n",
       " 'Michael Mann',\n",
       " 'Richard Marquand',\n",
       " 'Hayao Miyazaki',\n",
       " 'Alfred Hitchcock',\n",
       " 'Nitesh Tiwari',\n",
       " 'Rishab Shetty',\n",
       " 'Prashanth Neel',\n",
       " 'Lokesh Kanagaraj',\n",
       " 'Vishnuvardhan',\n",
       " 'Ram Kumar',\n",
       " 'Steven Spielberg',\n",
       " 'Steven Spielberg',\n",
       " 'Christopher Nolan',\n",
       " 'Jon Watts',\n",
       " 'Sam Mendes',\n",
       " 'John McTiernan',\n",
       " 'Quentin Tarantino',\n",
       " 'James McTeigue',\n",
       " 'Akira Kurosawa',\n",
       " 'Haruo Sotozaki',\n",
       " 'S.S. Rajamouli',\n",
       " 'Anurag Kashyap',\n",
       " 'Akira Kurosawa',\n",
       " 'Aditya Dhar',\n",
       " 'Sukumar',\n",
       " 'Prashanth Neel',\n",
       " 'Buster Keaton',\n",
       " 'Alper Caglar',\n",
       " 'Gayatri',\n",
       " 'Tigmanshu Dhulia',\n",
       " 'James Gunn',\n",
       " 'Gore Verbinski',\n",
       " 'George Miller',\n",
       " 'Ridley Scott',\n",
       " 'James Cameron',\n",
       " 'James Mangold',\n",
       " 'James Mangold',\n",
       " \"Gavin O'Connor\",\n",
       " 'Ron Howard',\n",
       " 'Guy Ritchie',\n",
       " 'Dean DeBlois',\n",
       " 'Brad Bird',\n",
       " 'Hideaki Anno',\n",
       " 'Raoul Walsh',\n",
       " 'Kabir Khan',\n",
       " 'Akira Kurosawa',\n",
       " 'Clyde Bruckman',\n",
       " 'Neeraj Pandey',\n",
       " 'Ramesh Sippy',\n",
       " 'Sashi Kiran Tikka',\n",
       " 'John Mathew Matthan',\n",
       " 'Priyadarshan',\n",
       " 'A.R. Murugadoss',\n",
       " 'A.R. Murugadoss',\n",
       " 'Christopher McQuarrie',\n",
       " 'Alejandro Monteverde',\n",
       " 'Denis Villeneuve',\n",
       " 'Denis Villeneuve',\n",
       " 'James Gunn',\n",
       " 'Tim Miller',\n",
       " 'Alejandro G. Iñárritu',\n",
       " 'Joss Whedon',\n",
       " 'Martin Campbell',\n",
       " 'Brad Bird',\n",
       " 'Katsuhiro Ôtomo',\n",
       " 'Quentin Tarantino',\n",
       " 'Wilson Yip',\n",
       " 'Paul Greengrass',\n",
       " 'S.S. Rajamouli',\n",
       " 'Tomm Moore',\n",
       " 'Andrew Lau',\n",
       " 'José Padilha',\n",
       " 'Akira Kurosawa',\n",
       " 'José Padilha']"
      ]
     },
     "execution_count": 33,
     "metadata": {},
     "output_type": "execute_result"
    }
   ],
   "source": [
    "director_1"
   ]
  },
  {
   "cell_type": "code",
   "execution_count": 34,
   "id": "45653beb",
   "metadata": {},
   "outputs": [
    {
     "data": {
      "text/plain": [
       "[None,\n",
       " None,\n",
       " 'Kemp Powers',\n",
       " None,\n",
       " None,\n",
       " None,\n",
       " 'Lilly Wachowski',\n",
       " None,\n",
       " None,\n",
       " None,\n",
       " None,\n",
       " None,\n",
       " None,\n",
       " None,\n",
       " None,\n",
       " None,\n",
       " None,\n",
       " 'Peter Ramsey',\n",
       " None,\n",
       " 'Joe Russo',\n",
       " None,\n",
       " None,\n",
       " 'Joe Russo',\n",
       " None,\n",
       " None,\n",
       " None,\n",
       " None,\n",
       " None,\n",
       " None,\n",
       " None,\n",
       " None,\n",
       " None,\n",
       " None,\n",
       " None,\n",
       " None,\n",
       " None,\n",
       " None,\n",
       " None,\n",
       " None,\n",
       " None,\n",
       " None,\n",
       " None,\n",
       " None,\n",
       " None,\n",
       " None,\n",
       " None,\n",
       " None,\n",
       " None,\n",
       " None,\n",
       " None,\n",
       " None,\n",
       " None,\n",
       " None,\n",
       " None,\n",
       " 'Pushkar',\n",
       " None,\n",
       " None,\n",
       " None,\n",
       " None,\n",
       " None,\n",
       " None,\n",
       " None,\n",
       " None,\n",
       " None,\n",
       " None,\n",
       " None,\n",
       " 'Chris Sanders',\n",
       " None,\n",
       " 'Kazuya Tsurumaki',\n",
       " None,\n",
       " 'Mehmet Tutkun',\n",
       " None,\n",
       " 'Buster Keaton',\n",
       " None,\n",
       " None,\n",
       " None,\n",
       " None,\n",
       " None,\n",
       " None,\n",
       " None,\n",
       " None,\n",
       " None,\n",
       " None,\n",
       " None,\n",
       " None,\n",
       " None,\n",
       " None,\n",
       " None,\n",
       " None,\n",
       " None,\n",
       " None,\n",
       " None,\n",
       " None,\n",
       " None,\n",
       " None,\n",
       " 'Ross Stewart',\n",
       " 'Alan Mak',\n",
       " None,\n",
       " None,\n",
       " None]"
      ]
     },
     "execution_count": 34,
     "metadata": {},
     "output_type": "execute_result"
    }
   ],
   "source": [
    "director_2"
   ]
  },
  {
   "cell_type": "markdown",
   "id": "15efd9b5",
   "metadata": {},
   "source": [
    "# Duration"
   ]
  },
  {
   "cell_type": "code",
   "execution_count": 15,
   "id": "8ace56d4",
   "metadata": {},
   "outputs": [],
   "source": [
    "time=[]"
   ]
  },
  {
   "cell_type": "code",
   "execution_count": 16,
   "id": "5818e992",
   "metadata": {},
   "outputs": [],
   "source": [
    "start=0\n",
    "end=2\n",
    "for i in range(start,end):\n",
    "    movie=driver.find_elements(By.XPATH,'/html/body/div[2]/div/div[2]/div[3]/div[1]/div/div[3]/div/div/div[3]/p[1]/span[3]')\n",
    "    for i in movie:\n",
    "        try:\n",
    "            time.append(i.text)\n",
    "            \n",
    "        except NoSuchElementException:\n",
    "            time.append('_')\n",
    "        \n",
    "    next_button=driver.find_element(By.XPATH,'//*[@id=\"main\"]/div/div[4]/a')\n",
    "    next_button.click()"
   ]
  },
  {
   "cell_type": "code",
   "execution_count": 17,
   "id": "e227ec20",
   "metadata": {},
   "outputs": [
    {
     "data": {
      "text/plain": [
       "100"
      ]
     },
     "execution_count": 17,
     "metadata": {},
     "output_type": "execute_result"
    }
   ],
   "source": [
    "len(time)"
   ]
  },
  {
   "cell_type": "markdown",
   "id": "620884f1",
   "metadata": {},
   "source": [
    "# YEAR"
   ]
  },
  {
   "cell_type": "code",
   "execution_count": 37,
   "id": "766cab2d",
   "metadata": {},
   "outputs": [],
   "source": [
    "Year=[]"
   ]
  },
  {
   "cell_type": "code",
   "execution_count": 38,
   "id": "76340c96",
   "metadata": {},
   "outputs": [],
   "source": [
    "start=0\n",
    "end=2\n",
    "for i in range(start,end):\n",
    "    movie=driver.find_elements(By.XPATH,'/html/body/div[2]/div/div[2]/div[3]/div[1]/div/div[3]/div/div/div[3]/h3/span[2]')\n",
    "    for i in movie:\n",
    "        try:\n",
    "            Year.append(i.text)\n",
    "            \n",
    "        except NoSuchElementException:\n",
    "            Year.append('_')\n",
    "        \n",
    "    next_button=driver.find_element(By.XPATH,'//*[@id=\"main\"]/div/div[4]/a')\n",
    "    next_button.click()"
   ]
  },
  {
   "cell_type": "code",
   "execution_count": 39,
   "id": "664077ea",
   "metadata": {},
   "outputs": [
    {
     "data": {
      "text/plain": [
       "100"
      ]
     },
     "execution_count": 39,
     "metadata": {},
     "output_type": "execute_result"
    }
   ],
   "source": [
    "len(Year)"
   ]
  },
  {
   "cell_type": "markdown",
   "id": "fb7ee286",
   "metadata": {},
   "source": [
    "# RATING"
   ]
  },
  {
   "cell_type": "code",
   "execution_count": 40,
   "id": "471ba9f1",
   "metadata": {},
   "outputs": [],
   "source": [
    "raating=[]"
   ]
  },
  {
   "cell_type": "code",
   "execution_count": 41,
   "id": "30d0045e",
   "metadata": {},
   "outputs": [],
   "source": [
    "start=0\n",
    "end=2\n",
    "for i in range(start,end):\n",
    "    movie=driver.find_elements(By.XPATH,'//div[@class=\"inline-block ratings-imdb-rating\"]')\n",
    "    for i in movie:\n",
    "        try:\n",
    "            raating.append(i.text)\n",
    "            \n",
    "        except NoSuchElementException:\n",
    "            raating.append('_')\n",
    "        \n",
    "    next_button=driver.find_element(By.XPATH,'//*[@id=\"main\"]/div/div[4]/a')\n",
    "    next_button.click()  "
   ]
  },
  {
   "cell_type": "code",
   "execution_count": 43,
   "id": "7aa7108e",
   "metadata": {},
   "outputs": [
    {
     "data": {
      "text/plain": [
       "100"
      ]
     },
     "execution_count": 43,
     "metadata": {},
     "output_type": "execute_result"
    }
   ],
   "source": [
    "len(raating)"
   ]
  },
  {
   "cell_type": "markdown",
   "id": "6bb61f6c",
   "metadata": {},
   "source": [
    "# METASCORE"
   ]
  },
  {
   "cell_type": "code",
   "execution_count": 44,
   "id": "ddae4466",
   "metadata": {},
   "outputs": [],
   "source": [
    "Metascore=[]"
   ]
  },
  {
   "cell_type": "code",
   "execution_count": 45,
   "id": "f1de6247",
   "metadata": {},
   "outputs": [],
   "source": [
    "for url in Movie_url:\n",
    "    driver.get(url)\n",
    "    #time.sleep(2)\n",
    "    try:\n",
    "        di=driver.find_element(By.XPATH,'//*[@id=\"__next\"]/main/div/section[1]/section/div[3]/section/section/div[3]/div[2]/div[2]/ul/li[3]/a/span/span[1]/span')\n",
    "        Metascore.append(di.text)\n",
    "    except NoSuchElementException:\n",
    "        Metascore.append('_')"
   ]
  },
  {
   "cell_type": "code",
   "execution_count": 46,
   "id": "3153815c",
   "metadata": {},
   "outputs": [
    {
     "data": {
      "text/plain": [
       "100"
      ]
     },
     "execution_count": 46,
     "metadata": {},
     "output_type": "execute_result"
    }
   ],
   "source": [
    "len(Metascore)"
   ]
  },
  {
   "cell_type": "code",
   "execution_count": 47,
   "id": "08b5e394",
   "metadata": {},
   "outputs": [
    {
     "data": {
      "text/html": [
       "<div>\n",
       "<style scoped>\n",
       "    .dataframe tbody tr th:only-of-type {\n",
       "        vertical-align: middle;\n",
       "    }\n",
       "\n",
       "    .dataframe tbody tr th {\n",
       "        vertical-align: top;\n",
       "    }\n",
       "\n",
       "    .dataframe thead th {\n",
       "        text-align: right;\n",
       "    }\n",
       "</style>\n",
       "<table border=\"1\" class=\"dataframe\">\n",
       "  <thead>\n",
       "    <tr style=\"text-align: right;\">\n",
       "      <th></th>\n",
       "      <th>SR. NO.</th>\n",
       "      <th>Movie Name</th>\n",
       "      <th>Director_Name</th>\n",
       "      <th>Director 1</th>\n",
       "      <th>Director 2</th>\n",
       "      <th>Duration</th>\n",
       "      <th>Year</th>\n",
       "      <th>Rating</th>\n",
       "      <th>MetaScore</th>\n",
       "    </tr>\n",
       "  </thead>\n",
       "  <tbody>\n",
       "    <tr>\n",
       "      <th>0</th>\n",
       "      <td>101.</td>\n",
       "      <td>Haider</td>\n",
       "      <td>Christopher Nolan</td>\n",
       "      <td>Christopher Nolan</td>\n",
       "      <td>None</td>\n",
       "      <td>&lt;module 'time' (built-in)&gt;</td>\n",
       "      <td>(2008)</td>\n",
       "      <td>9.0</td>\n",
       "      <td>84</td>\n",
       "    </tr>\n",
       "    <tr>\n",
       "      <th>1</th>\n",
       "      <td>102.</td>\n",
       "      <td>Tae Guk Gi: The Brotherhood of War</td>\n",
       "      <td>Peter Jackson</td>\n",
       "      <td>Peter Jackson</td>\n",
       "      <td>None</td>\n",
       "      <td>&lt;module 'time' (built-in)&gt;</td>\n",
       "      <td>(2003)</td>\n",
       "      <td>9.0</td>\n",
       "      <td>94</td>\n",
       "    </tr>\n",
       "    <tr>\n",
       "      <th>2</th>\n",
       "      <td>103.</td>\n",
       "      <td>Karthikeya 2</td>\n",
       "      <td>Joaquim Dos Santos</td>\n",
       "      <td>Joaquim Dos Santos</td>\n",
       "      <td>Kemp Powers</td>\n",
       "      <td>&lt;module 'time' (built-in)&gt;</td>\n",
       "      <td>(2023)</td>\n",
       "      <td>8.9</td>\n",
       "      <td>86</td>\n",
       "    </tr>\n",
       "    <tr>\n",
       "      <th>3</th>\n",
       "      <td>104.</td>\n",
       "      <td>The Breath</td>\n",
       "      <td>Christopher Nolan</td>\n",
       "      <td>Christopher Nolan</td>\n",
       "      <td>None</td>\n",
       "      <td>&lt;module 'time' (built-in)&gt;</td>\n",
       "      <td>(2010)</td>\n",
       "      <td>8.8</td>\n",
       "      <td>74</td>\n",
       "    </tr>\n",
       "    <tr>\n",
       "      <th>4</th>\n",
       "      <td>105.</td>\n",
       "      <td>Andaz Apna Apna</td>\n",
       "      <td>Peter Jackson</td>\n",
       "      <td>Peter Jackson</td>\n",
       "      <td>None</td>\n",
       "      <td>&lt;module 'time' (built-in)&gt;</td>\n",
       "      <td>(2001)</td>\n",
       "      <td>8.8</td>\n",
       "      <td>92</td>\n",
       "    </tr>\n",
       "    <tr>\n",
       "      <th>...</th>\n",
       "      <td>...</td>\n",
       "      <td>...</td>\n",
       "      <td>...</td>\n",
       "      <td>...</td>\n",
       "      <td>...</td>\n",
       "      <td>...</td>\n",
       "      <td>...</td>\n",
       "      <td>...</td>\n",
       "      <td>...</td>\n",
       "    </tr>\n",
       "    <tr>\n",
       "      <th>95</th>\n",
       "      <td>146.</td>\n",
       "      <td>Wolfwalkers</td>\n",
       "      <td>Tomm Moore</td>\n",
       "      <td>Tomm Moore</td>\n",
       "      <td>Ross Stewart</td>\n",
       "      <td>&lt;module 'time' (built-in)&gt;</td>\n",
       "      <td>(2020)</td>\n",
       "      <td>8.0</td>\n",
       "      <td>87</td>\n",
       "    </tr>\n",
       "    <tr>\n",
       "      <th>96</th>\n",
       "      <td>147.</td>\n",
       "      <td>Infernal Affairs</td>\n",
       "      <td>Andrew Lau</td>\n",
       "      <td>Andrew Lau</td>\n",
       "      <td>Alan Mak</td>\n",
       "      <td>&lt;module 'time' (built-in)&gt;</td>\n",
       "      <td>(2002)</td>\n",
       "      <td>8.0</td>\n",
       "      <td>75</td>\n",
       "    </tr>\n",
       "    <tr>\n",
       "      <th>97</th>\n",
       "      <td>148.</td>\n",
       "      <td>Elite Squad</td>\n",
       "      <td>José Padilha</td>\n",
       "      <td>José Padilha</td>\n",
       "      <td>None</td>\n",
       "      <td>&lt;module 'time' (built-in)&gt;</td>\n",
       "      <td>(2007)</td>\n",
       "      <td>8.0</td>\n",
       "      <td>33</td>\n",
       "    </tr>\n",
       "    <tr>\n",
       "      <th>98</th>\n",
       "      <td>149.</td>\n",
       "      <td>Sanjuro</td>\n",
       "      <td>Akira Kurosawa</td>\n",
       "      <td>Akira Kurosawa</td>\n",
       "      <td>None</td>\n",
       "      <td>&lt;module 'time' (built-in)&gt;</td>\n",
       "      <td>(1962)</td>\n",
       "      <td>8.0</td>\n",
       "      <td>_</td>\n",
       "    </tr>\n",
       "    <tr>\n",
       "      <th>99</th>\n",
       "      <td>150.</td>\n",
       "      <td>Elite Squad 2: The Enemy Within</td>\n",
       "      <td>José Padilha</td>\n",
       "      <td>José Padilha</td>\n",
       "      <td>None</td>\n",
       "      <td>&lt;module 'time' (built-in)&gt;</td>\n",
       "      <td>(2010)</td>\n",
       "      <td>8.0</td>\n",
       "      <td>71</td>\n",
       "    </tr>\n",
       "  </tbody>\n",
       "</table>\n",
       "<p>100 rows × 9 columns</p>\n",
       "</div>"
      ],
      "text/plain": [
       "   SR. NO.                          Movie Name       Director_Name  \\\n",
       "0     101.                              Haider   Christopher Nolan   \n",
       "1     102.  Tae Guk Gi: The Brotherhood of War       Peter Jackson   \n",
       "2     103.                        Karthikeya 2  Joaquim Dos Santos   \n",
       "3     104.                          The Breath   Christopher Nolan   \n",
       "4     105.                     Andaz Apna Apna       Peter Jackson   \n",
       "..     ...                                 ...                 ...   \n",
       "95    146.                         Wolfwalkers          Tomm Moore   \n",
       "96    147.                    Infernal Affairs          Andrew Lau   \n",
       "97    148.                         Elite Squad        José Padilha   \n",
       "98    149.                             Sanjuro      Akira Kurosawa   \n",
       "99    150.     Elite Squad 2: The Enemy Within        José Padilha   \n",
       "\n",
       "            Director 1    Director 2                    Duration    Year  \\\n",
       "0    Christopher Nolan          None  <module 'time' (built-in)>  (2008)   \n",
       "1        Peter Jackson          None  <module 'time' (built-in)>  (2003)   \n",
       "2   Joaquim Dos Santos   Kemp Powers  <module 'time' (built-in)>  (2023)   \n",
       "3    Christopher Nolan          None  <module 'time' (built-in)>  (2010)   \n",
       "4        Peter Jackson          None  <module 'time' (built-in)>  (2001)   \n",
       "..                 ...           ...                         ...     ...   \n",
       "95          Tomm Moore  Ross Stewart  <module 'time' (built-in)>  (2020)   \n",
       "96          Andrew Lau      Alan Mak  <module 'time' (built-in)>  (2002)   \n",
       "97        José Padilha          None  <module 'time' (built-in)>  (2007)   \n",
       "98      Akira Kurosawa          None  <module 'time' (built-in)>  (1962)   \n",
       "99        José Padilha          None  <module 'time' (built-in)>  (2010)   \n",
       "\n",
       "   Rating MetaScore  \n",
       "0     9.0        84  \n",
       "1     9.0        94  \n",
       "2     8.9        86  \n",
       "3     8.8        74  \n",
       "4     8.8        92  \n",
       "..    ...       ...  \n",
       "95    8.0        87  \n",
       "96    8.0        75  \n",
       "97    8.0        33  \n",
       "98    8.0         _  \n",
       "99    8.0        71  \n",
       "\n",
       "[100 rows x 9 columns]"
      ]
     },
     "execution_count": 47,
     "metadata": {},
     "output_type": "execute_result"
    }
   ],
   "source": [
    "df1=pd.DataFrame({'SR. NO.':srno, 'Movie Name':movie_name,'Director_Name':DIRE, 'Director 1':director_1, 'Director 2':director_2,'Duration':time, 'Year':Year, 'Rating':raating, 'MetaScore':Metascore })\n",
    "df1"
   ]
  },
  {
   "cell_type": "code",
   "execution_count": null,
   "id": "25c35906",
   "metadata": {},
   "outputs": [],
   "source": []
  }
 ],
 "metadata": {
  "kernelspec": {
   "display_name": "Python 3 (ipykernel)",
   "language": "python",
   "name": "python3"
  },
  "language_info": {
   "codemirror_mode": {
    "name": "ipython",
    "version": 3
   },
   "file_extension": ".py",
   "mimetype": "text/x-python",
   "name": "python",
   "nbconvert_exporter": "python",
   "pygments_lexer": "ipython3",
   "version": "3.9.12"
  }
 },
 "nbformat": 4,
 "nbformat_minor": 5
}
