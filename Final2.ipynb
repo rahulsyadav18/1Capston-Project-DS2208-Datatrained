{
 "cells": [
  {
   "cell_type": "code",
   "execution_count": 1,
   "id": "ad858f38",
   "metadata": {},
   "outputs": [],
   "source": [
    "from bs4 import BeautifulSoup\n",
    "import requests \n",
    "import pandas as pd\n",
    "import selenium\n",
    "from selenium import webdriver\n",
    "from selenium.webdriver.common.by import By\n",
    "import warnings\n",
    "warnings.filterwarnings('ignore')\n",
    "import time\n",
    "from selenium.common.exceptions import NoSuchElementException"
   ]
  },
  {
   "cell_type": "code",
   "execution_count": 32,
   "id": "1b6125f9",
   "metadata": {},
   "outputs": [],
   "source": [
    "driver= webdriver.Chrome(r\"chromedriver.exe\")"
   ]
  },
  {
   "cell_type": "code",
   "execution_count": 33,
   "id": "9d2bba62",
   "metadata": {},
   "outputs": [],
   "source": [
    "driver.get('https://www.imdb.com/search/title/?genres=action&sort=user_rating,desc&title_type=feature&num_votes=25000,&pf_rd_m=A2FGELUUNOQJNL&pf_rd_p=f11158cc-b50b-4c4d-b0a2-40b32863395b&pf_rd_r=XZ8X52H1R40B7KG5SNZ9&pf_rd_s=right-6&pf_rd_t=15506&pf_rd_i=top&ref_=chttp_gnr_1')"
   ]
  },
  {
   "cell_type": "code",
   "execution_count": 27,
   "id": "2577a7c5",
   "metadata": {},
   "outputs": [],
   "source": [
    "movie_url=[]\n",
    "start=0\n",
    "end=2\n",
    "for page in range(start,end):\n",
    "    url=driver.find_elements(By.XPATH,'//h3[@class=\"lister-item-header\"]/a')\n",
    "    for i in url:\n",
    "        movie_url.append(i.get_attribute('href'))\n",
    "        next_button=driver.find_element(By.XPATH,'//a[@class=\"lister-page-next next-page\"]')\n",
    "    next_button.click()\n",
    "    time.sleep(2)"
   ]
  },
  {
   "cell_type": "markdown",
   "id": "955db775",
   "metadata": {},
   "source": [
    "# Movie Name"
   ]
  },
  {
   "cell_type": "code",
   "execution_count": 4,
   "id": "45ad6bde",
   "metadata": {},
   "outputs": [],
   "source": [
    "movie_name=[]"
   ]
  },
  {
   "cell_type": "code",
   "execution_count": 5,
   "id": "8e477714",
   "metadata": {},
   "outputs": [],
   "source": [
    "start=0\n",
    "end=2\n",
    "for i in range(start,end):\n",
    "    movie=driver.find_elements(By.XPATH,'//h3[@class=\"lister-item-header\"]/a')\n",
    "    for i in movie:\n",
    "        movie_name.append(i.text)\n",
    "        next_button=driver.find_element(By.XPATH,'//*[@id=\"main\"]/div/div[4]/a')\n",
    "    next_button.click()\n",
    "    time.sleep(2)"
   ]
  },
  {
   "cell_type": "code",
   "execution_count": 6,
   "id": "7b2921e1",
   "metadata": {},
   "outputs": [
    {
     "data": {
      "text/plain": [
       "100"
      ]
     },
     "execution_count": 6,
     "metadata": {},
     "output_type": "execute_result"
    }
   ],
   "source": [
    "len(movie_name)"
   ]
  },
  {
   "cell_type": "markdown",
   "id": "144ba769",
   "metadata": {},
   "source": [
    "# Stars"
   ]
  },
  {
   "cell_type": "code",
   "execution_count": 7,
   "id": "c9fe1d94",
   "metadata": {},
   "outputs": [],
   "source": [
    "Star=[]"
   ]
  },
  {
   "cell_type": "code",
   "execution_count": 8,
   "id": "fb979fe6",
   "metadata": {},
   "outputs": [],
   "source": [
    "start=0\n",
    "end=2\n",
    "for i in range(start,end):\n",
    "    movie=driver.find_elements(By.XPATH,'/html/body/div[2]/div/div[2]/div[3]/div[1]/div/div[3]/div/div/div[3]/div/div[1]/strong')\n",
    "    for i in movie:\n",
    "        Star.append(i.text)\n",
    "        next_button=driver.find_element(By.XPATH,'//*[@id=\"main\"]/div/div[4]/a')\n",
    "    next_button.click()\n",
    "    time.sleep(2)"
   ]
  },
  {
   "cell_type": "code",
   "execution_count": 9,
   "id": "3d41781a",
   "metadata": {},
   "outputs": [
    {
     "data": {
      "text/plain": [
       "100"
      ]
     },
     "execution_count": 9,
     "metadata": {},
     "output_type": "execute_result"
    }
   ],
   "source": [
    "len(Star)"
   ]
  },
  {
   "cell_type": "markdown",
   "id": "987fdf53",
   "metadata": {},
   "source": [
    "# Votes"
   ]
  },
  {
   "cell_type": "code",
   "execution_count": 10,
   "id": "7cd7c041",
   "metadata": {},
   "outputs": [],
   "source": [
    "Votes=[]"
   ]
  },
  {
   "cell_type": "code",
   "execution_count": 11,
   "id": "68d8f94e",
   "metadata": {},
   "outputs": [],
   "source": [
    "start=0\n",
    "end=2\n",
    "for i in range(start,end):\n",
    "    movie=driver.find_elements(By.XPATH,'/html/body/div[2]/div/div[2]/div[3]/div[1]/div/div[3]/div/div/div/p[4]/span[2]')\n",
    "    for i in movie:\n",
    "        Votes.append(i.text)\n",
    "        next_button=driver.find_element(By.XPATH,'//*[@id=\"main\"]/div/div[4]/a')\n",
    "    next_button.click()\n",
    "    time.sleep(2)"
   ]
  },
  {
   "cell_type": "code",
   "execution_count": 12,
   "id": "52d3ef96",
   "metadata": {},
   "outputs": [
    {
     "data": {
      "text/plain": [
       "100"
      ]
     },
     "execution_count": 12,
     "metadata": {},
     "output_type": "execute_result"
    }
   ],
   "source": [
    "len(Votes)"
   ]
  },
  {
   "cell_type": "markdown",
   "id": "864e6f82",
   "metadata": {},
   "source": [
    "# Genre"
   ]
  },
  {
   "cell_type": "code",
   "execution_count": 19,
   "id": "37ae5026",
   "metadata": {},
   "outputs": [],
   "source": [
    "genr=[]"
   ]
  },
  {
   "cell_type": "code",
   "execution_count": 20,
   "id": "d039917b",
   "metadata": {},
   "outputs": [],
   "source": [
    "start=0\n",
    "end=2\n",
    "for i in range(start,end):\n",
    "    movie=driver.find_elements(By.XPATH,'//span[@class=\"genre\"]')\n",
    "    for i in movie:\n",
    "        try:\n",
    "            genr.append(i.text)\n",
    "            \n",
    "        except NoSuchElementException:\n",
    "            genr.append('_')\n",
    "        \n",
    "    next_button=driver.find_element(By.XPATH,'//*[@id=\"main\"]/div/div[4]/a')\n",
    "    next_button.click()  "
   ]
  },
  {
   "cell_type": "code",
   "execution_count": 21,
   "id": "adcfdb98",
   "metadata": {},
   "outputs": [
    {
     "data": {
      "text/plain": [
       "100"
      ]
     },
     "execution_count": 21,
     "metadata": {},
     "output_type": "execute_result"
    }
   ],
   "source": [
    "len(genr)"
   ]
  },
  {
   "cell_type": "code",
   "execution_count": 22,
   "id": "a9cee4fd",
   "metadata": {},
   "outputs": [
    {
     "data": {
      "text/plain": [
       "['Action, Crime, Drama',\n",
       " 'Action, Adventure, Drama',\n",
       " 'Animation, Action, Adventure',\n",
       " 'Action, Adventure, Sci-Fi',\n",
       " 'Action, Adventure, Drama',\n",
       " 'Action, Adventure, Drama',\n",
       " 'Action, Sci-Fi',\n",
       " 'Action, Adventure, Fantasy',\n",
       " 'Action, Drama',\n",
       " 'Action, Sci-Fi',\n",
       " 'Action, Adventure, Fantasy',\n",
       " 'Action, Drama',\n",
       " 'Action, Drama, Mystery',\n",
       " 'Action, Drama, Mystery',\n",
       " 'Action, Adventure, Drama',\n",
       " 'Action, Crime, Drama',\n",
       " 'Action, Adventure',\n",
       " 'Animation, Action, Adventure',\n",
       " 'Action, Drama, Thriller',\n",
       " 'Action, Adventure, Drama',\n",
       " 'Action, Adventure, Sci-Fi',\n",
       " 'Action, Drama, Mystery',\n",
       " 'Action, Adventure, Sci-Fi',\n",
       " 'Action, Adventure, Crime',\n",
       " 'Action, Drama',\n",
       " 'Action, Drama',\n",
       " 'Action, Crime, Drama',\n",
       " 'Action, Adventure, Fantasy',\n",
       " 'Animation, Action, Adventure',\n",
       " 'Action, Adventure, Mystery',\n",
       " 'Action, Biography, Drama',\n",
       " 'Action, Adventure, Drama',\n",
       " 'Action, Crime, Drama',\n",
       " 'Action, Crime, Thriller',\n",
       " 'Action, Biography, Drama',\n",
       " 'Action, Crime, Drama',\n",
       " 'Action, Adventure',\n",
       " 'Action, Adventure, Sci-Fi',\n",
       " 'Action, Crime, Drama',\n",
       " 'Action, Adventure, Fantasy',\n",
       " 'Action, Drama, War',\n",
       " 'Action, Thriller',\n",
       " 'Action, Crime, Thriller',\n",
       " 'Action, Drama, Sci-Fi',\n",
       " 'Action, Drama, War',\n",
       " 'Animation, Action, Adventure',\n",
       " 'Action, Drama',\n",
       " 'Action, Comedy, Crime',\n",
       " 'Action, Drama, Thriller',\n",
       " 'Action, Drama, History',\n",
       " 'Action, Drama',\n",
       " 'Action, Crime, Drama',\n",
       " 'Action, Comedy, Romance',\n",
       " 'Action, Drama, War',\n",
       " 'Action, Crime, Drama',\n",
       " 'Action, Biography, Crime',\n",
       " 'Action, Adventure, Comedy',\n",
       " 'Action, Adventure, Fantasy',\n",
       " 'Action, Adventure, Sci-Fi',\n",
       " 'Action, Drama, Sci-Fi',\n",
       " 'Action, Sci-Fi',\n",
       " 'Action, Drama, Sci-Fi',\n",
       " 'Action, Biography, Drama',\n",
       " 'Action, Drama, Sport',\n",
       " 'Action, Biography, Drama',\n",
       " 'Action, Comedy, Crime',\n",
       " 'Animation, Action, Adventure',\n",
       " 'Animation, Action, Adventure',\n",
       " 'Animation, Action, Drama',\n",
       " 'Action, Crime, Drama',\n",
       " 'Action, Adventure, Comedy',\n",
       " 'Action, Adventure, Drama',\n",
       " 'Action, Adventure, Comedy',\n",
       " 'Action, Crime, Drama',\n",
       " 'Action, Adventure, Comedy',\n",
       " 'Action, Biography, Drama',\n",
       " 'Action, Drama, Thriller',\n",
       " 'Action, Comedy, Crime',\n",
       " 'Action, Thriller',\n",
       " 'Action, Drama',\n",
       " 'Action, Adventure, Thriller',\n",
       " 'Action, Biography, Drama',\n",
       " 'Action, Adventure, Drama',\n",
       " 'Action, Drama, Mystery',\n",
       " 'Action, Adventure, Comedy',\n",
       " 'Action, Comedy',\n",
       " 'Action, Adventure, Drama',\n",
       " 'Action, Sci-Fi',\n",
       " 'Action, Adventure, Thriller',\n",
       " 'Animation, Action, Adventure',\n",
       " 'Animation, Action, Drama',\n",
       " 'Action, Crime, Thriller',\n",
       " 'Action, Biography, Drama',\n",
       " 'Action, Mystery, Thriller',\n",
       " 'Action, Drama',\n",
       " 'Animation, Action, Adventure',\n",
       " 'Action, Crime, Drama',\n",
       " 'Action, Crime, Drama',\n",
       " 'Action, Drama, Thriller',\n",
       " 'Action, Crime, Drama']"
      ]
     },
     "execution_count": 22,
     "metadata": {},
     "output_type": "execute_result"
    }
   ],
   "source": [
    "genr"
   ]
  },
  {
   "cell_type": "markdown",
   "id": "9f48653e",
   "metadata": {},
   "source": [
    "# Certificate"
   ]
  },
  {
   "cell_type": "code",
   "execution_count": 13,
   "id": "efe295bc",
   "metadata": {},
   "outputs": [],
   "source": [
    "Certi=[]"
   ]
  },
  {
   "cell_type": "code",
   "execution_count": 14,
   "id": "ce7d92f3",
   "metadata": {},
   "outputs": [],
   "source": [
    "start=0\n",
    "end=2\n",
    "for i in range(start,end):\n",
    "    movie=driver.find_elements(By.XPATH,'//span[@class=\"certificate\"]')\n",
    "    for i in movie:\n",
    "        try:\n",
    "            Certi.append(i.text)\n",
    "            \n",
    "        except NoSuchElementException:\n",
    "            Certi.append('-')\n",
    "        \n",
    "    next_button=driver.find_element(By.XPATH,'//*[@id=\"main\"]/div/div[4]/a')\n",
    "    next_button.click()  "
   ]
  },
  {
   "cell_type": "code",
   "execution_count": 15,
   "id": "35af3c9d",
   "metadata": {},
   "outputs": [
    {
     "data": {
      "text/plain": [
       "99"
      ]
     },
     "execution_count": 15,
     "metadata": {},
     "output_type": "execute_result"
    }
   ],
   "source": [
    "len(Certi)"
   ]
  },
  {
   "cell_type": "code",
   "execution_count": 16,
   "id": "0324d53f",
   "metadata": {},
   "outputs": [
    {
     "data": {
      "text/plain": [
       "['PG-13',\n",
       " 'PG-13',\n",
       " 'PG',\n",
       " 'PG-13',\n",
       " 'PG-13',\n",
       " 'PG-13',\n",
       " 'R',\n",
       " 'PG',\n",
       " 'TV-MA',\n",
       " 'R',\n",
       " 'PG',\n",
       " 'Not Rated',\n",
       " 'Not Rated',\n",
       " 'U',\n",
       " 'R',\n",
       " 'R',\n",
       " 'PG',\n",
       " 'PG',\n",
       " 'PG-13',\n",
       " 'PG-13',\n",
       " 'R',\n",
       " 'R',\n",
       " 'PG-13',\n",
       " 'Not Rated',\n",
       " 'Not Rated',\n",
       " 'PG-13',\n",
       " 'R',\n",
       " 'PG',\n",
       " 'PG-13',\n",
       " 'Approved',\n",
       " 'Not Rated',\n",
       " 'Not Rated',\n",
       " 'Not Rated',\n",
       " 'UA',\n",
       " 'TV-14',\n",
       " 'Not Rated',\n",
       " 'PG-13',\n",
       " 'PG-13',\n",
       " 'PG-13',\n",
       " 'PG-13',\n",
       " 'R',\n",
       " 'R',\n",
       " 'R',\n",
       " 'R',\n",
       " 'R',\n",
       " 'R',\n",
       " 'Not Rated',\n",
       " 'Not Rated',\n",
       " 'Not Rated',\n",
       " 'Not Rated',\n",
       " 'Not Rated',\n",
       " 'Not Rated',\n",
       " 'Passed',\n",
       " 'Not Rated',\n",
       " 'Not Rated',\n",
       " 'PG-13',\n",
       " 'PG-13',\n",
       " 'R',\n",
       " 'R',\n",
       " 'R',\n",
       " 'R',\n",
       " 'PG-13',\n",
       " 'PG-13',\n",
       " 'R',\n",
       " 'R',\n",
       " 'PG',\n",
       " 'PG',\n",
       " 'TV-MA',\n",
       " 'Not Rated',\n",
       " 'Not Rated',\n",
       " 'Not Rated',\n",
       " 'Passed',\n",
       " 'Not Rated',\n",
       " 'Not Rated',\n",
       " 'UA',\n",
       " 'Not Rated',\n",
       " 'Not Rated',\n",
       " 'Not Rated',\n",
       " 'Not Rated',\n",
       " 'PG-13',\n",
       " 'PG-13',\n",
       " 'PG-13',\n",
       " 'R',\n",
       " 'PG-13',\n",
       " 'R',\n",
       " 'R',\n",
       " 'PG-13',\n",
       " 'PG-13',\n",
       " 'PG',\n",
       " 'R',\n",
       " 'R',\n",
       " 'R',\n",
       " 'PG-13',\n",
       " 'Not Rated',\n",
       " 'PG',\n",
       " 'R',\n",
       " 'R',\n",
       " 'Not Rated',\n",
       " 'Not Rated']"
      ]
     },
     "execution_count": 16,
     "metadata": {},
     "output_type": "execute_result"
    }
   ],
   "source": [
    "Certi"
   ]
  },
  {
   "cell_type": "markdown",
   "id": "0e288a52",
   "metadata": {},
   "source": [
    "# Popularity"
   ]
  },
  {
   "cell_type": "code",
   "execution_count": 23,
   "id": "ad1abaf6",
   "metadata": {},
   "outputs": [],
   "source": [
    "Popu=[]"
   ]
  },
  {
   "cell_type": "code",
   "execution_count": 28,
   "id": "2a8cb5bc",
   "metadata": {},
   "outputs": [],
   "source": [
    "for url in movie_url:\n",
    "    driver.get(url)\n",
    "    #time.sleep(2)\n",
    "    try:\n",
    "        di=driver.find_element(By.XPATH,'//span[@class=\"sc-bde20123-1 iZlgcd\"]')\n",
    "        Popu.append(di.text)\n",
    "    except NoSuchElementException:\n",
    "        Popu.append('-')"
   ]
  },
  {
   "cell_type": "code",
   "execution_count": 29,
   "id": "156a3473",
   "metadata": {},
   "outputs": [
    {
     "data": {
      "text/plain": [
       "100"
      ]
     },
     "execution_count": 29,
     "metadata": {},
     "output_type": "execute_result"
    }
   ],
   "source": [
    "len(Popu)"
   ]
  },
  {
   "cell_type": "code",
   "execution_count": 34,
   "id": "d00b079c",
   "metadata": {
    "scrolled": true
   },
   "outputs": [
    {
     "ename": "WebDriverException",
     "evalue": "Message: unknown error: cannot determine loading status\nfrom target frame detached\n  (Session info: chrome=115.0.5790.102)\nStacktrace:\nBacktrace:\n\tGetHandleVerifier [0x00CDA813+48355]\n\t(No symbol) [0x00C6C4B1]\n\t(No symbol) [0x00B75220]\n\t(No symbol) [0x00B68277]\n\t(No symbol) [0x00B66F26]\n\t(No symbol) [0x00B677AA]\n\t(No symbol) [0x00B708A9]\n\t(No symbol) [0x00B7C668]\n\t(No symbol) [0x00B7F566]\n\t(No symbol) [0x00B67BC3]\n\t(No symbol) [0x00B7C37A]\n\t(No symbol) [0x00BCCB1F]\n\t(No symbol) [0x00BBA536]\n\t(No symbol) [0x00B982DC]\n\t(No symbol) [0x00B993DD]\n\tGetHandleVerifier [0x00F3AABD+2539405]\n\tGetHandleVerifier [0x00F7A78F+2800735]\n\tGetHandleVerifier [0x00F7456C+2775612]\n\tGetHandleVerifier [0x00D651E0+616112]\n\t(No symbol) [0x00C75F8C]\n\t(No symbol) [0x00C72328]\n\t(No symbol) [0x00C7240B]\n\t(No symbol) [0x00C64FF7]\n\tBaseThreadInitThunk [0x765500C9+25]\n\tRtlGetAppContainerNamedObjectPath [0x774F7B1E+286]\n\tRtlGetAppContainerNamedObjectPath [0x774F7AEE+238]\n",
     "output_type": "error",
     "traceback": [
      "\u001b[1;31m---------------------------------------------------------------------------\u001b[0m",
      "\u001b[1;31mWebDriverException\u001b[0m                        Traceback (most recent call last)",
      "Input \u001b[1;32mIn [34]\u001b[0m, in \u001b[0;36m<cell line: 1>\u001b[1;34m()\u001b[0m\n\u001b[0;32m      1\u001b[0m \u001b[38;5;28;01mfor\u001b[39;00m url \u001b[38;5;129;01min\u001b[39;00m Movie_url:\n\u001b[1;32m----> 2\u001b[0m     \u001b[43mdriver\u001b[49m\u001b[38;5;241;43m.\u001b[39;49m\u001b[43mget\u001b[49m\u001b[43m(\u001b[49m\u001b[43murl\u001b[49m\u001b[43m)\u001b[49m\n\u001b[0;32m      3\u001b[0m     time\u001b[38;5;241m.\u001b[39msleep(\u001b[38;5;241m2\u001b[39m)\n\u001b[0;32m      4\u001b[0m     \u001b[38;5;28;01mtry\u001b[39;00m:\n",
      "File \u001b[1;32m~\\anaconda3\\lib\\site-packages\\selenium\\webdriver\\remote\\webdriver.py:449\u001b[0m, in \u001b[0;36mWebDriver.get\u001b[1;34m(self, url)\u001b[0m\n\u001b[0;32m    447\u001b[0m \u001b[38;5;28;01mdef\u001b[39;00m \u001b[38;5;21mget\u001b[39m(\u001b[38;5;28mself\u001b[39m, url: \u001b[38;5;28mstr\u001b[39m) \u001b[38;5;241m-\u001b[39m\u001b[38;5;241m>\u001b[39m \u001b[38;5;28;01mNone\u001b[39;00m:\n\u001b[0;32m    448\u001b[0m     \u001b[38;5;124;03m\"\"\"Loads a web page in the current browser session.\"\"\"\u001b[39;00m\n\u001b[1;32m--> 449\u001b[0m     \u001b[38;5;28;43mself\u001b[39;49m\u001b[38;5;241;43m.\u001b[39;49m\u001b[43mexecute\u001b[49m\u001b[43m(\u001b[49m\u001b[43mCommand\u001b[49m\u001b[38;5;241;43m.\u001b[39;49m\u001b[43mGET\u001b[49m\u001b[43m,\u001b[49m\u001b[43m \u001b[49m\u001b[43m{\u001b[49m\u001b[38;5;124;43m\"\u001b[39;49m\u001b[38;5;124;43murl\u001b[39;49m\u001b[38;5;124;43m\"\u001b[39;49m\u001b[43m:\u001b[49m\u001b[43m \u001b[49m\u001b[43murl\u001b[49m\u001b[43m}\u001b[49m\u001b[43m)\u001b[49m\n",
      "File \u001b[1;32m~\\anaconda3\\lib\\site-packages\\selenium\\webdriver\\remote\\webdriver.py:440\u001b[0m, in \u001b[0;36mWebDriver.execute\u001b[1;34m(self, driver_command, params)\u001b[0m\n\u001b[0;32m    438\u001b[0m response \u001b[38;5;241m=\u001b[39m \u001b[38;5;28mself\u001b[39m\u001b[38;5;241m.\u001b[39mcommand_executor\u001b[38;5;241m.\u001b[39mexecute(driver_command, params)\n\u001b[0;32m    439\u001b[0m \u001b[38;5;28;01mif\u001b[39;00m response:\n\u001b[1;32m--> 440\u001b[0m     \u001b[38;5;28;43mself\u001b[39;49m\u001b[38;5;241;43m.\u001b[39;49m\u001b[43merror_handler\u001b[49m\u001b[38;5;241;43m.\u001b[39;49m\u001b[43mcheck_response\u001b[49m\u001b[43m(\u001b[49m\u001b[43mresponse\u001b[49m\u001b[43m)\u001b[49m\n\u001b[0;32m    441\u001b[0m     response[\u001b[38;5;124m\"\u001b[39m\u001b[38;5;124mvalue\u001b[39m\u001b[38;5;124m\"\u001b[39m] \u001b[38;5;241m=\u001b[39m \u001b[38;5;28mself\u001b[39m\u001b[38;5;241m.\u001b[39m_unwrap_value(response\u001b[38;5;241m.\u001b[39mget(\u001b[38;5;124m\"\u001b[39m\u001b[38;5;124mvalue\u001b[39m\u001b[38;5;124m\"\u001b[39m, \u001b[38;5;28;01mNone\u001b[39;00m))\n\u001b[0;32m    442\u001b[0m     \u001b[38;5;28;01mreturn\u001b[39;00m response\n",
      "File \u001b[1;32m~\\anaconda3\\lib\\site-packages\\selenium\\webdriver\\remote\\errorhandler.py:245\u001b[0m, in \u001b[0;36mErrorHandler.check_response\u001b[1;34m(self, response)\u001b[0m\n\u001b[0;32m    243\u001b[0m         alert_text \u001b[38;5;241m=\u001b[39m value[\u001b[38;5;124m\"\u001b[39m\u001b[38;5;124malert\u001b[39m\u001b[38;5;124m\"\u001b[39m]\u001b[38;5;241m.\u001b[39mget(\u001b[38;5;124m\"\u001b[39m\u001b[38;5;124mtext\u001b[39m\u001b[38;5;124m\"\u001b[39m)\n\u001b[0;32m    244\u001b[0m     \u001b[38;5;28;01mraise\u001b[39;00m exception_class(message, screen, stacktrace, alert_text)  \u001b[38;5;66;03m# type: ignore[call-arg]  # mypy is not smart enough here\u001b[39;00m\n\u001b[1;32m--> 245\u001b[0m \u001b[38;5;28;01mraise\u001b[39;00m exception_class(message, screen, stacktrace)\n",
      "\u001b[1;31mWebDriverException\u001b[0m: Message: unknown error: cannot determine loading status\nfrom target frame detached\n  (Session info: chrome=115.0.5790.102)\nStacktrace:\nBacktrace:\n\tGetHandleVerifier [0x00CDA813+48355]\n\t(No symbol) [0x00C6C4B1]\n\t(No symbol) [0x00B75220]\n\t(No symbol) [0x00B68277]\n\t(No symbol) [0x00B66F26]\n\t(No symbol) [0x00B677AA]\n\t(No symbol) [0x00B708A9]\n\t(No symbol) [0x00B7C668]\n\t(No symbol) [0x00B7F566]\n\t(No symbol) [0x00B67BC3]\n\t(No symbol) [0x00B7C37A]\n\t(No symbol) [0x00BCCB1F]\n\t(No symbol) [0x00BBA536]\n\t(No symbol) [0x00B982DC]\n\t(No symbol) [0x00B993DD]\n\tGetHandleVerifier [0x00F3AABD+2539405]\n\tGetHandleVerifier [0x00F7A78F+2800735]\n\tGetHandleVerifier [0x00F7456C+2775612]\n\tGetHandleVerifier [0x00D651E0+616112]\n\t(No symbol) [0x00C75F8C]\n\t(No symbol) [0x00C72328]\n\t(No symbol) [0x00C7240B]\n\t(No symbol) [0x00C64FF7]\n\tBaseThreadInitThunk [0x765500C9+25]\n\tRtlGetAppContainerNamedObjectPath [0x774F7B1E+286]\n\tRtlGetAppContainerNamedObjectPath [0x774F7AEE+238]\n"
     ]
    }
   ],
   "source": [
    "for url in Movie_url:\n",
    "    driver.get(url)\n",
    "    time.sleep(2)\n",
    "    try:\n",
    "        di=driver.find_element(By.XPATH,'//*[@id=\"__next\"]/main/div/section[1]/section/div[3]/section/section/div[3]/div[2]/div[2]/ul/li[3]/a/span/span[1]/span')\n",
    "        popu.append(di.text)\n",
    "    except NoSuchElementException:\n",
    "        popu.append('_')"
   ]
  },
  {
   "cell_type": "code",
   "execution_count": null,
   "id": "2df1df85",
   "metadata": {},
   "outputs": [],
   "source": [
    "len(popu)"
   ]
  },
  {
   "cell_type": "markdown",
   "id": "3b13840b",
   "metadata": {},
   "source": [
    "# Gross Collection"
   ]
  },
  {
   "cell_type": "code",
   "execution_count": 36,
   "id": "7e6170a2",
   "metadata": {},
   "outputs": [],
   "source": [
    "income=[]"
   ]
  },
  {
   "cell_type": "code",
   "execution_count": 37,
   "id": "8e52fa5b",
   "metadata": {},
   "outputs": [],
   "source": [
    "start=0\n",
    "end=2\n",
    "for i in range(start,end):\n",
    "    movie=driver.find_elements(By.XPATH,'/html/body/div[2]/div/div[2]/div[3]/div[1]/div/div[3]/div/div/div[3]/p[4]/span[5]')\n",
    "    for i in movie:\n",
    "        try:\n",
    "            income.append(i.text)\n",
    "            \n",
    "        except NoSuchElementException:\n",
    "            income.append(None)\n",
    "        \n",
    "    next_button=driver.find_element(By.XPATH,'//*[@id=\"main\"]/div/div[4]/a')\n",
    "    next_button.click()\n",
    "    time.sleep(2)"
   ]
  },
  {
   "cell_type": "code",
   "execution_count": 38,
   "id": "afd30f92",
   "metadata": {},
   "outputs": [
    {
     "data": {
      "text/plain": [
       "69"
      ]
     },
     "execution_count": 38,
     "metadata": {},
     "output_type": "execute_result"
    }
   ],
   "source": [
    "len(income)"
   ]
  },
  {
   "cell_type": "code",
   "execution_count": null,
   "id": "43112518",
   "metadata": {},
   "outputs": [],
   "source": [
    "# Creating table IMDB_Table2\n",
    "cur.execute('create TABLE IMDB_Table2(Movie_name, Star1, Star2, Star3, Star4, Votes, Genre1, Genre2, Genre3, Gross_Collection,"
   ]
  }
 ],
 "metadata": {
  "kernelspec": {
   "display_name": "Python 3 (ipykernel)",
   "language": "python",
   "name": "python3"
  },
  "language_info": {
   "codemirror_mode": {
    "name": "ipython",
    "version": 3
   },
   "file_extension": ".py",
   "mimetype": "text/x-python",
   "name": "python",
   "nbconvert_exporter": "python",
   "pygments_lexer": "ipython3",
   "version": "3.9.12"
  }
 },
 "nbformat": 4,
 "nbformat_minor": 5
}
